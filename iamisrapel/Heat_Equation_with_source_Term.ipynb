{
 "cells": [
  {
   "cell_type": "code",
   "execution_count": 1,
   "metadata": {
    "collapsed": false
   },
   "outputs": [
    {
     "name": "stdout",
     "output_type": "stream",
     "text": [
      "hello world\n"
     ]
    }
   ],
   "source": [
    "print('hello world')"
   ]
  },
  {
   "cell_type": "code",
   "execution_count": 3,
   "metadata": {
    "collapsed": true
   },
   "outputs": [],
   "source": [
    "import numpy\n",
    "from matplotlib import pyplot\n",
    "%matplotlib inline"
   ]
  },
  {
   "cell_type": "code",
   "execution_count": 4,
   "metadata": {
    "collapsed": false
   },
   "outputs": [],
   "source": [
    "def year_1859_to_1896(p_initial):\n",
    "    \n",
    "    dt = 1    #1 month\n",
    "    dx = 1    #100 km\n",
    "    \n",
    "    \n",
    "    months = 0\n",
    "    growth_rate = 0.005\n",
    "    p_n = numpy.empty_like(p_initial)\n",
    "    p = p_initial.copy()\n",
    "    \n",
    "    \n",
    "    while months != 444:\n",
    "        months = 0\n",
    "        p = p_initial.copy()\n",
    "        \n",
    "        \n",
    "        \n",
    "        while p[30,30] == 0:\n",
    "            p_n = p.copy()\n",
    "            p[1:-1,1:-1] = (1 + growth_rate)*p_n[1:-1,1:-1] + dt/dx**2 * (p_n[1:-1,:-2] + p_n[1:-1,2:] + p_n[:-2,1:-1] + p_n[2:,1:-1] - \\\n",
    "                                                                                      4*p_n[1:-1,1:-1])\n",
    "            \n",
    "            p[0,:] = p[1,:]\n",
    "            p[-1,:] = p[-2,:]\n",
    "            p[:,0] = p[:,1]\n",
    "            p[:,-1] = p[:,-2]\n",
    "            \n",
    "            \n",
    "            months = months + 1\n",
    "            \n",
    "            \n",
    "            \n",
    "        if months > 444:\n",
    "            growth_rate = growth_rate*1.5\n",
    "        elif months < 444:\n",
    "            growth_rate = growth_rate*0.5\n",
    "            \n",
    "            \n",
    "    return p, growth_rate"
   ]
  },
  {
   "cell_type": "code",
   "execution_count": 5,
   "metadata": {
    "collapsed": false
   },
   "outputs": [],
   "source": [
    "p_initial = numpy.zeros((37,40))\n",
    "p_initial[0,30] = 24"
   ]
  },
  {
   "cell_type": "code",
   "execution_count": 6,
   "metadata": {
    "collapsed": false
   },
   "outputs": [
    {
     "data": {
      "text/plain": [
       "array([  0.,   0.,   0.,   0.,   0.,   0.,   0.,   0.,   0.,   0.,   0.,\n",
       "         0.,   0.,   0.,   0.,   0.,   0.,   0.,   0.,   0.,   0.,   0.,\n",
       "         0.,   0.,   0.,   0.,   0.,   0.,   0.,   0.,  24.,   0.,   0.,\n",
       "         0.,   0.,   0.,   0.,   0.,   0.,   0.])"
      ]
     },
     "execution_count": 6,
     "metadata": {},
     "output_type": "execute_result"
    }
   ],
   "source": [
    "p_initial[0]"
   ]
  },
  {
   "cell_type": "code",
   "execution_count": null,
   "metadata": {
    "collapsed": false
   },
   "outputs": [],
   "source": [
    "p_1896, growth_rate_1896 = year_1859_to_1896(p_initial)"
   ]
  },
  {
   "cell_type": "code",
   "execution_count": 8,
   "metadata": {
    "collapsed": false
   },
   "outputs": [
    {
     "ename": "NameError",
     "evalue": "name 'growth_rate_1896' is not defined",
     "output_type": "error",
     "traceback": [
      "\u001b[1;31m\u001b[0m",
      "\u001b[1;31mNameError\u001b[0mTraceback (most recent call last)",
      "\u001b[1;32m<ipython-input-8-235e60c028c4>\u001b[0m in \u001b[0;36m<module>\u001b[1;34m()\u001b[0m\n\u001b[1;32m----> 1\u001b[1;33m \u001b[0mgrowth_rate_1896\u001b[0m\u001b[1;33m\u001b[0m\u001b[0m\n\u001b[0m",
      "\u001b[1;31mNameError\u001b[0m: name 'growth_rate_1896' is not defined"
     ]
    }
   ],
   "source": [
    "growth_rate_1896"
   ]
  },
  {
   "cell_type": "code",
   "execution_count": null,
   "metadata": {
    "collapsed": true
   },
   "outputs": [],
   "source": []
  }
 ],
 "metadata": {
  "anaconda-cloud": {},
  "kernelspec": {
   "display_name": "Python [Root]",
   "language": "python",
   "name": "Python [Root]"
  },
  "language_info": {
   "codemirror_mode": {
    "name": "ipython",
    "version": 3
   },
   "file_extension": ".py",
   "mimetype": "text/x-python",
   "name": "python",
   "nbconvert_exporter": "python",
   "pygments_lexer": "ipython3",
   "version": "3.5.2"
  }
 },
 "nbformat": 4,
 "nbformat_minor": 1
}
