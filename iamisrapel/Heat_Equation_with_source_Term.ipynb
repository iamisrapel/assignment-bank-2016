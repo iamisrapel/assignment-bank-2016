{
 "cells": [
  {
   "cell_type": "code",
   "execution_count": 1,
   "metadata": {
    "collapsed": false
   },
   "outputs": [
    {
     "name": "stdout",
     "output_type": "stream",
     "text": [
      "hello world\n"
     ]
    }
   ],
   "source": [
    "print('hello world')"
   ]
  },
  {
   "cell_type": "raw",
   "metadata": {},
   "source": []
  },
  {
   "cell_type": "markdown",
   "metadata": {},
   "source": [
    "background story\n",
    "\n",
    "Have you ever heard of the story of the rabbits in Australia? Unlike other stories, where usually rabbits stands for the goodness and kindness, also harmless, sometimes a little weak, makes people pity them, and wants to protect them,right? However, that might not be true in Australia, rabbits in Australia once brings a horrible nightmare to the Australian people. They invade Australia, conquered Australia, and almost force human to leave Australia. \n",
    "\n",
    "Wait, Are you kidding me? Are we talking about the same species? Are we even on the same planet? Are you come from Mars or somewhere further? Rabbits? That tiny lovely animal? Come on! this can't be true!\n",
    "\n",
    "Well, It is true, and the war between humans and rabbits never ends, Australians are still fighting hard against that lovely little demon creature on this earth, not Mars or somewhere further. \n",
    "\n",
    "So, What happened? What's wrong with this lovely little creature? Can they use a gun to shoot? can they drive a tank? The answer is no, they cannot, but that doesn't mean they can't win. \n",
    "\n",
    "The war history tells like this, In the early 19th century, we human took some rabbits to the newly discovered land of Australia as a source of food, they were prisoners in cages, and everything is perfectly fine. However, in 1859, a man named Thomas Austin, the hero of Australian rabbits, released only 24 rabbits on his property, Barwon Park, near Winchelsea, Victoria, for a hunting purpose. \n",
    "\n",
    "After those 24 rabbits were free, they start wondering, where are we? why there is no eagles and foxes? Are we in paradise? HAHAHAHA!!\n",
    "\n",
    "Yes, that's the beginning of the war, and soon humans found out that the rabbits were out of control, and tried to limit their numbers, but most of the methods were in vain, including buiding a \"Great Wall\" to sto the spread of the rabbits, though rabbits cannot fly across that \"Great Wall\", they are good at digging holes, and soon the Wall-building-method turns to a failure.Another method is introducing foxes into Australia so that the foxes will eat up the rabbits and control the amount of rabbits, but the foxes betrayed the trust of humans and turn to eat other local animals in Australia, and even threats sheeps that most Australian families rely on, and humans have to eliminate foxes as well...Nice try!!\n",
    "\n",
    "\n",
    "exand\n",
    "Rabbits keeps winning and winning, and humans suffers a lot, rabbits ate up almost all the grass and corps, and we don't have a way to stop them! In 1896,they appeared in Queensland, which is almost 2500 km far away from where they were freed, and in 1907, they were believed to be everywhere in Australia, and in 1926, a survey shows that there might be 10 billion of rabbits in Australia!!\n",
    "\n",
    "We might consider that we were loosing that war before 1926, after a few years in 1950s, we human start winning by using bioweapons, and now there is some kind of a \"balance\" between humans and rabbits. The war is still on going!!"
   ]
  },
  {
   "cell_type": "markdown",
   "metadata": {},
   "source": [
    "math model\n",
    "\n",
    "Anyway, this topic greatly suits a project of using the diffusion equation with a source term, which is: \n",
    "\n",
    "\n",
    "\\begin{equation}\n",
    "\\frac{\\partial p}{\\partial t} = \\alpha \\left(\\frac{\\partial^2 p}{\\partial x^2} + \\frac{\\partial^2 p}{\\partial y^2} \\right) + Q(p)\n",
    "\\end{equation}\n",
    "\n",
    "\n",
    "Where p is the population, and the source term Q is a function of the population, probably is \n",
    "\n",
    "\n",
    "\\begin{equation}\n",
    "Q(p) = r p\n",
    "\\end{equation}\n",
    "\n",
    "\n",
    "where r stands for the growth rate of the population, usually r is also a function of p, which means that the growth rate varies with different amount of population, if the population is low, r could be high, and if the population is high enough, r could be very small. But let's consider r to be a constant at first.\n",
    "\n",
    "What about $\\alpha$ ?Well, I'm very sorry to say that I tried to find some physical meaning for this constant, but failed, so let's just keep it there and use this inequation to solve it instead:\n",
    "\\begin{equation}\n",
    "\\alpha \\frac{\\Delta t}{(\\Delta x)^2} \\leq \\frac{1}{2}\n",
    "\\end{equation}\n",
    "\n",
    "\n",
    "And we also can use some information to try to find a reasonable number for $\\alpha$"
   ]
  },
  {
   "cell_type": "markdown",
   "metadata": {},
   "source": []
  },
  {
   "cell_type": "code",
   "execution_count": null,
   "metadata": {
    "collapsed": true
   },
   "outputs": [],
   "source": []
  },
  {
   "cell_type": "code",
   "execution_count": null,
   "metadata": {
    "collapsed": true
   },
   "outputs": [],
   "source": []
  },
  {
   "cell_type": "code",
   "execution_count": null,
   "metadata": {
    "collapsed": true
   },
   "outputs": [],
   "source": []
  },
  {
   "cell_type": "code",
   "execution_count": null,
   "metadata": {
    "collapsed": true
   },
   "outputs": [],
   "source": []
  },
  {
   "cell_type": "code",
   "execution_count": null,
   "metadata": {
    "collapsed": true
   },
   "outputs": [],
   "source": []
  },
  {
   "cell_type": "code",
   "execution_count": null,
   "metadata": {
    "collapsed": true
   },
   "outputs": [],
   "source": []
  },
  {
   "cell_type": "code",
   "execution_count": null,
   "metadata": {
    "collapsed": true
   },
   "outputs": [],
   "source": []
  },
  {
   "cell_type": "code",
   "execution_count": null,
   "metadata": {
    "collapsed": true
   },
   "outputs": [],
   "source": []
  },
  {
   "cell_type": "code",
   "execution_count": null,
   "metadata": {
    "collapsed": true
   },
   "outputs": [],
   "source": []
  },
  {
   "cell_type": "code",
   "execution_count": 1,
   "metadata": {
    "collapsed": true
   },
   "outputs": [],
   "source": [
    "import numpy\n",
    "from matplotlib import pyplot\n",
    "%matplotlib inline"
   ]
  },
  {
   "cell_type": "code",
   "execution_count": 132,
   "metadata": {
    "collapsed": false
   },
   "outputs": [],
   "source": [
    "def year_1859_to_1896(p_initial):\n",
    "    \n",
    "    dt = 1    #1 month\n",
    "    dx = 100    #10 km\n",
    "    \n",
    "    \n",
    "    months = 0\n",
    "    growth_rate = 0.005\n",
    "    p_n = numpy.zeros_like(p_initial)\n",
    "    p = p_initial.copy()\n",
    "    \n",
    "    \n",
    "    while months != 444:                   #444 = 12 months * 37 years\n",
    "        months = 0\n",
    "        p = p_initial.copy()\n",
    "        \n",
    "        \n",
    "        \n",
    "        while p[30,30] <= 100:\n",
    "            p_n = p.copy()\n",
    "            p[1:-1,1:-1] = (1 + growth_rate*dt)*p_n[1:-1,1:-1] + 570*dt/dx**2 * (p_n[1:-1,:-2] + p_n[1:-1,2:] + p_n[:-2,1:-1] + p_n[2:,1:-1] - \\\n",
    "                                                                                      4*p_n[1:-1,1:-1])\n",
    "            \n",
    "            p[0,:] = p[1,:]\n",
    "            p[-1,:] = p[-2,:]\n",
    "            p[:,0] = p[:,1]\n",
    "            p[:,-1] = p[:,-2]\n",
    "            \n",
    "            \n",
    "            months = months + 1\n",
    "            \n",
    "            \n",
    "            \n",
    "        if months > 444:\n",
    "            growth_rate = growth_rate*1.5\n",
    "        elif months < 444:\n",
    "            growth_rate = growth_rate*0.5\n",
    "            \n",
    "            \n",
    "    return p, growth_rate                    "
   ]
  },
  {
   "cell_type": "code",
   "execution_count": 133,
   "metadata": {
    "collapsed": false
   },
   "outputs": [],
   "source": [
    "p_initial = numpy.zeros((37,40))\n",
    "p_initial[0,30] = 24"
   ]
  },
  {
   "cell_type": "code",
   "execution_count": 134,
   "metadata": {
    "collapsed": false
   },
   "outputs": [
    {
     "data": {
      "text/plain": [
       "array([  0.,   0.,   0.,   0.,   0.,   0.,   0.,   0.,   0.,   0.,   0.,\n",
       "         0.,   0.,   0.,   0.,   0.,   0.,   0.,   0.,   0.,   0.,   0.,\n",
       "         0.,   0.,   0.,   0.,   0.,   0.,   0.,   0.,  24.,   0.,   0.,\n",
       "         0.,   0.,   0.,   0.,   0.,   0.,   0.])"
      ]
     },
     "execution_count": 134,
     "metadata": {},
     "output_type": "execute_result"
    }
   ],
   "source": [
    "p_initial[0]"
   ]
  },
  {
   "cell_type": "code",
   "execution_count": 135,
   "metadata": {
    "collapsed": false
   },
   "outputs": [],
   "source": [
    "p_1896, growth_rate_1896 = year_1859_to_1896(p_initial)"
   ]
  },
  {
   "cell_type": "code",
   "execution_count": 136,
   "metadata": {
    "collapsed": false
   },
   "outputs": [
    {
     "data": {
      "text/plain": [
       "0.041659629994861044"
      ]
     },
     "execution_count": 136,
     "metadata": {},
     "output_type": "execute_result"
    }
   ],
   "source": [
    "growth_rate_1896"
   ]
  },
  {
   "cell_type": "code",
   "execution_count": 137,
   "metadata": {
    "collapsed": false
   },
   "outputs": [
    {
     "data": {
      "text/plain": [
       "array([[  1.90785769e+02,   1.90785769e+02,   2.54070874e+02, ...,\n",
       "          6.10798824e+05,   6.04746743e+05,   6.04746743e+05],\n",
       "       [  1.90785769e+02,   1.90785769e+02,   2.54070874e+02, ...,\n",
       "          6.10798824e+05,   6.04746743e+05,   6.04746743e+05],\n",
       "       [  1.86813737e+02,   1.86813737e+02,   2.48787092e+02, ...,\n",
       "          5.98302227e+05,   5.92372864e+05,   5.92372864e+05],\n",
       "       ..., \n",
       "       [  2.15974431e-03,   2.15974431e-03,   2.91261909e-03, ...,\n",
       "          8.42455533e+00,   8.33254780e+00,   8.33254780e+00],\n",
       "       [  1.45870743e-03,   1.45870743e-03,   1.96860768e-03, ...,\n",
       "          5.75337780e+00,   5.69021131e+00,   5.69021131e+00],\n",
       "       [  1.45870743e-03,   1.45870743e-03,   1.96860768e-03, ...,\n",
       "          5.75337780e+00,   5.69021131e+00,   5.69021131e+00]])"
      ]
     },
     "execution_count": 137,
     "metadata": {},
     "output_type": "execute_result"
    }
   ],
   "source": [
    "p_1896"
   ]
  },
  {
   "cell_type": "code",
   "execution_count": 138,
   "metadata": {
    "collapsed": false
   },
   "outputs": [
    {
     "data": {
      "text/plain": [
       "114441556.26958604"
      ]
     },
     "execution_count": 138,
     "metadata": {},
     "output_type": "execute_result"
    }
   ],
   "source": [
    "numpy.sum(p_1896)"
   ]
  },
  {
   "cell_type": "code",
   "execution_count": 56,
   "metadata": {
    "collapsed": false
   },
   "outputs": [
    {
     "data": {
      "text/plain": [
       "24.0"
      ]
     },
     "execution_count": 56,
     "metadata": {},
     "output_type": "execute_result"
    }
   ],
   "source": [
    "p_initial[0,30]"
   ]
  },
  {
   "cell_type": "code",
   "execution_count": 22,
   "metadata": {
    "collapsed": false
   },
   "outputs": [
    {
     "data": {
      "text/plain": [
       "9.156540483745244"
      ]
     },
     "execution_count": 22,
     "metadata": {},
     "output_type": "execute_result"
    }
   ],
   "source": [
    "1.005**444"
   ]
  },
  {
   "cell_type": "code",
   "execution_count": null,
   "metadata": {
    "collapsed": true
   },
   "outputs": [],
   "source": []
  }
 ],
 "metadata": {
  "anaconda-cloud": {},
  "kernelspec": {
   "display_name": "Python [Root]",
   "language": "python",
   "name": "Python [Root]"
  },
  "language_info": {
   "codemirror_mode": {
    "name": "ipython",
    "version": 3
   },
   "file_extension": ".py",
   "mimetype": "text/x-python",
   "name": "python",
   "nbconvert_exporter": "python",
   "pygments_lexer": "ipython3",
   "version": "3.5.2"
  }
 },
 "nbformat": 4,
 "nbformat_minor": 1
}
