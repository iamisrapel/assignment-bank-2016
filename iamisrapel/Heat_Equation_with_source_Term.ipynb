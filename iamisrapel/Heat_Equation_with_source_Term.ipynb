{
 "cells": [
  {
   "cell_type": "code",
   "execution_count": 1,
   "metadata": {
    "collapsed": false
   },
   "outputs": [
    {
     "name": "stdout",
     "output_type": "stream",
     "text": [
      "hello world\n"
     ]
    }
   ],
   "source": [
    "print('hello world')"
   ]
  },
  {
   "cell_type": "code",
   "execution_count": 12,
   "metadata": {
    "collapsed": true
   },
   "outputs": [],
   "source": [
    "import numpy\n",
    "from matplotlib import pyplot\n",
    "%matplotlib inline"
   ]
  },
  {
   "cell_type": "code",
   "execution_count": 13,
   "metadata": {
    "collapsed": false
   },
   "outputs": [],
   "source": [
    "def year_1859_to_1896(p_initial):\n",
    "    \n",
    "    dt = 1    #1 month\n",
    "    dx = 100    #100 km\n",
    "    \n",
    "    \n",
    "    months = 0\n",
    "    growth_rate = 0.005\n",
    "    p_n = numpy.zeros_like(p_initial)\n",
    "    p = p_initial.copy()\n",
    "    \n",
    "    \n",
    "    while months != 444:                   #444 = 12 months * 37 years\n",
    "        months = 0\n",
    "        p = p_initial.copy()\n",
    "        \n",
    "        \n",
    "        \n",
    "        while p[30,30] <= 100:\n",
    "            p_n = p.copy()\n",
    "            p[1:-1,1:-1] = (1 + growth_rate)*p_n[1:-1,1:-1] + dt/dx**2 * (p_n[1:-1,:-2] + p_n[1:-1,2:] + p_n[:-2,1:-1] + p_n[2:,1:-1] - \\\n",
    "                                                                                      4*p_n[1:-1,1:-1])\n",
    "            \n",
    "            p[0,:] = p[1,:]\n",
    "            p[-1,:] = p[-2,:]\n",
    "            p[:,0] = p[:,1]\n",
    "            p[:,-1] = p[:,-2]\n",
    "            \n",
    "            \n",
    "            months = months + 1\n",
    "            \n",
    "            \n",
    "            \n",
    "        if months > 444:\n",
    "            growth_rate = growth_rate*1.5\n",
    "        elif months < 444:\n",
    "            growth_rate = growth_rate*0.5\n",
    "            \n",
    "            \n",
    "    return p, growth_rate"
   ]
  },
  {
   "cell_type": "code",
   "execution_count": 14,
   "metadata": {
    "collapsed": false
   },
   "outputs": [],
   "source": [
    "p_initial = numpy.zeros((37,40))\n",
    "p_initial[0,30] = 24"
   ]
  },
  {
   "cell_type": "code",
   "execution_count": 15,
   "metadata": {
    "collapsed": false
   },
   "outputs": [
    {
     "data": {
      "text/plain": [
       "array([  0.,   0.,   0.,   0.,   0.,   0.,   0.,   0.,   0.,   0.,   0.,\n",
       "         0.,   0.,   0.,   0.,   0.,   0.,   0.,   0.,   0.,   0.,   0.,\n",
       "         0.,   0.,   0.,   0.,   0.,   0.,   0.,   0.,  24.,   0.,   0.,\n",
       "         0.,   0.,   0.,   0.,   0.,   0.,   0.])"
      ]
     },
     "execution_count": 15,
     "metadata": {},
     "output_type": "execute_result"
    }
   ],
   "source": [
    "p_initial[0]"
   ]
  },
  {
   "cell_type": "code",
   "execution_count": 16,
   "metadata": {
    "collapsed": false
   },
   "outputs": [],
   "source": [
    "p_1896, growth_rate_1896 = year_1859_to_1896(p_initial)"
   ]
  },
  {
   "cell_type": "code",
   "execution_count": 17,
   "metadata": {
    "collapsed": false
   },
   "outputs": [
    {
     "data": {
      "text/plain": [
       "0.5206574313926178"
      ]
     },
     "execution_count": 17,
     "metadata": {},
     "output_type": "execute_result"
    }
   ],
   "source": [
    "growth_rate_1896"
   ]
  },
  {
   "cell_type": "code",
   "execution_count": 18,
   "metadata": {
    "collapsed": false
   },
   "outputs": [
    {
     "data": {
      "text/plain": [
       "array([[  1.25493760e+02,   1.25493760e+02,   1.33206343e+05, ...,\n",
       "          3.23940177e+63,   1.16489858e+61,   1.16489858e+61],\n",
       "       [  1.25493760e+02,   1.25493760e+02,   1.33206343e+05, ...,\n",
       "          3.23940177e+63,   1.16489858e+61,   1.16489858e+61],\n",
       "       [  3.37083357e+00,   3.37083357e+00,   3.58652864e+03, ...,\n",
       "          9.15690001e+61,   3.28538239e+59,   3.28538239e+59],\n",
       "       ..., \n",
       "       [  8.65003950e-88,   8.65003950e-88,   9.97489779e-85, ...,\n",
       "          1.31754362e-25,   4.37856450e-28,   4.37856450e-28],\n",
       "       [  6.38036950e-91,   6.38036950e-91,   7.37694119e-88, ...,\n",
       "          1.02799501e-28,   3.40780573e-31,   3.40780573e-31],\n",
       "       [  6.38036950e-91,   6.38036950e-91,   7.37694119e-88, ...,\n",
       "          1.02799501e-28,   3.40780573e-31,   3.40780573e-31]])"
      ]
     },
     "execution_count": 18,
     "metadata": {},
     "output_type": "execute_result"
    }
   ],
   "source": [
    "p_1896"
   ]
  },
  {
   "cell_type": "code",
   "execution_count": 19,
   "metadata": {
    "collapsed": false
   },
   "outputs": [
    {
     "data": {
      "text/plain": [
       "2.0651712100774426e+78"
      ]
     },
     "execution_count": 19,
     "metadata": {},
     "output_type": "execute_result"
    }
   ],
   "source": [
    "numpy.sum(p_1896)"
   ]
  },
  {
   "cell_type": "code",
   "execution_count": 20,
   "metadata": {
    "collapsed": false
   },
   "outputs": [
    {
     "data": {
      "text/plain": [
       "24.0"
      ]
     },
     "execution_count": 20,
     "metadata": {},
     "output_type": "execute_result"
    }
   ],
   "source": [
    "p_initial[0,30]"
   ]
  },
  {
   "cell_type": "code",
   "execution_count": 22,
   "metadata": {
    "collapsed": false
   },
   "outputs": [
    {
     "data": {
      "text/plain": [
       "9.156540483745244"
      ]
     },
     "execution_count": 22,
     "metadata": {},
     "output_type": "execute_result"
    }
   ],
   "source": [
    "1.005**444"
   ]
  },
  {
   "cell_type": "code",
   "execution_count": null,
   "metadata": {
    "collapsed": true
   },
   "outputs": [],
   "source": []
  }
 ],
 "metadata": {
  "anaconda-cloud": {},
  "kernelspec": {
   "display_name": "Python [default]",
   "language": "python",
   "name": "python3"
  },
  "language_info": {
   "codemirror_mode": {
    "name": "ipython",
    "version": 3
   },
   "file_extension": ".py",
   "mimetype": "text/x-python",
   "name": "python",
   "nbconvert_exporter": "python",
   "pygments_lexer": "ipython3",
   "version": "3.5.2"
  }
 },
 "nbformat": 4,
 "nbformat_minor": 1
}
