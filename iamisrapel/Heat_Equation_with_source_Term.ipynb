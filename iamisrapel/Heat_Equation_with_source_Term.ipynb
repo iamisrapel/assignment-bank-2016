{
 "cells": [
  {
   "cell_type": "code",
   "execution_count": 1,
   "metadata": {
    "collapsed": false
   },
   "outputs": [
    {
     "name": "stdout",
     "output_type": "stream",
     "text": [
      "hello world\n"
     ]
    }
   ],
   "source": [
    "print('hello world')"
   ]
  },
  {
   "cell_type": "code",
   "execution_count": 16,
   "metadata": {
    "collapsed": true
   },
   "outputs": [],
   "source": [
    "import numpy\n",
    "from matplotlib import pyplot\n",
    "%matplotlib inline"
   ]
  },
  {
   "cell_type": "code",
   "execution_count": 17,
   "metadata": {
    "collapsed": false
   },
   "outputs": [],
   "source": [
    "def year_1859_to_1896(p_initial):\n",
    "    \n",
    "    dt = 1    #1 month\n",
    "    dx = 100    #100 km\n",
    "    \n",
    "    \n",
    "    months = 0\n",
    "    growth_rate = 0.005\n",
    "    p_n = numpy.zeros_like(p_initial)\n",
    "    p = p_initial.copy()\n",
    "    \n",
    "    \n",
    "    while months != 444:\n",
    "        months = 0\n",
    "        p = p_initial.copy()\n",
    "        \n",
    "        \n",
    "        \n",
    "        while p[30,30] <= 1000:\n",
    "            p_n = p.copy()\n",
    "            p[1:-1,1:-1] = (1 + growth_rate)*p_n[1:-1,1:-1] + dt/dx**2 * (p_n[1:-1,:-2] + p_n[1:-1,2:] + p_n[:-2,1:-1] + p_n[2:,1:-1] - \\\n",
    "                                                                                      4*p_n[1:-1,1:-1])\n",
    "            \n",
    "            p[0,:] = p[1,:]\n",
    "            p[-1,:] = p[-2,:]\n",
    "            p[:,0] = p[:,1]\n",
    "            p[:,-1] = p[:,-2]\n",
    "            \n",
    "            \n",
    "            months = months + 1\n",
    "            \n",
    "            \n",
    "            \n",
    "        if months > 444:\n",
    "            growth_rate = growth_rate*1.5\n",
    "        elif months < 444:\n",
    "            growth_rate = growth_rate*0.5\n",
    "            \n",
    "            \n",
    "    return p, growth_rate"
   ]
  },
  {
   "cell_type": "code",
   "execution_count": 18,
   "metadata": {
    "collapsed": false
   },
   "outputs": [],
   "source": [
    "p_initial = numpy.zeros((37,40))\n",
    "p_initial[0,30] = 24"
   ]
  },
  {
   "cell_type": "code",
   "execution_count": 19,
   "metadata": {
    "collapsed": false
   },
   "outputs": [
    {
     "data": {
      "text/plain": [
       "array([  0.,   0.,   0.,   0.,   0.,   0.,   0.,   0.,   0.,   0.,   0.,\n",
       "         0.,   0.,   0.,   0.,   0.,   0.,   0.,   0.,   0.,   0.,   0.,\n",
       "         0.,   0.,   0.,   0.,   0.,   0.,   0.,   0.,  24.,   0.,   0.,\n",
       "         0.,   0.,   0.,   0.,   0.,   0.,   0.])"
      ]
     },
     "execution_count": 19,
     "metadata": {},
     "output_type": "execute_result"
    }
   ],
   "source": [
    "p_initial[0]"
   ]
  },
  {
   "cell_type": "code",
   "execution_count": 20,
   "metadata": {
    "collapsed": false
   },
   "outputs": [],
   "source": [
    "p_1896, growth_rate_1896 = year_1859_to_1896(p_initial)"
   ]
  },
  {
   "cell_type": "code",
   "execution_count": 21,
   "metadata": {
    "collapsed": false
   },
   "outputs": [
    {
     "data": {
      "text/plain": [
       "0.5288640846004855"
      ]
     },
     "execution_count": 21,
     "metadata": {},
     "output_type": "execute_result"
    }
   ],
   "source": [
    "growth_rate_1896"
   ]
  },
  {
   "cell_type": "code",
   "execution_count": 22,
   "metadata": {
    "collapsed": false
   },
   "outputs": [
    {
     "data": {
      "text/plain": [
       "array([[  1.16554608e+03,   1.16554608e+03,   1.24386220e+06, ...,\n",
       "          3.38694851e+64,   1.21139735e+62,   1.21139735e+62],\n",
       "       [  1.16554608e+03,   1.16554608e+03,   1.24386220e+06, ...,\n",
       "          3.38694851e+64,   1.21139735e+62,   1.21139735e+62],\n",
       "       [  3.11414457e+01,   3.11414457e+01,   3.33131644e+04, ...,\n",
       "          9.52331444e+62,   3.39844495e+60,   3.39844495e+60],\n",
       "       ..., \n",
       "       [  6.72715717e-87,   6.72715717e-87,   7.79941409e-84, ...,\n",
       "          1.15350182e-24,   3.81276599e-27,   3.81276599e-27],\n",
       "       [  4.93536877e-90,   4.93536877e-90,   5.73706977e-87, ...,\n",
       "          8.95167874e-28,   2.95150448e-30,   2.95150448e-30],\n",
       "       [  4.93536877e-90,   4.93536877e-90,   5.73706977e-87, ...,\n",
       "          8.95167874e-28,   2.95150448e-30,   2.95150448e-30]])"
      ]
     },
     "execution_count": 22,
     "metadata": {},
     "output_type": "execute_result"
    }
   ],
   "source": [
    "p_1896"
   ]
  },
  {
   "cell_type": "code",
   "execution_count": null,
   "metadata": {
    "collapsed": true
   },
   "outputs": [],
   "source": []
  }
 ],
 "metadata": {
  "anaconda-cloud": {},
  "kernelspec": {
   "display_name": "Python [default]",
   "language": "python",
   "name": "python3"
  },
  "language_info": {
   "codemirror_mode": {
    "name": "ipython",
    "version": 3
   },
   "file_extension": ".py",
   "mimetype": "text/x-python",
   "name": "python",
   "nbconvert_exporter": "python",
   "pygments_lexer": "ipython3",
   "version": "3.5.2"
  }
 },
 "nbformat": 4,
 "nbformat_minor": 1
}
