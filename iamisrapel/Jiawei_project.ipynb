{
 "cells": [
  {
   "cell_type": "markdown",
   "metadata": {},
   "source": [
    "my project is about rabbit and grass, we know that rabbit eats grass, if there is a plenty of grass, then the number of rabbits will increase, but the increase of rabbits will reduce the grass, which will make the rabbits reduce, one possibility is that rabbits will eat all the grass, and rabbits will die after the grass is gone, but there might be a balance, hope we have time to find out"
   ]
  },
  {
   "cell_type": "markdown",
   "metadata": {},
   "source": [
    "1859年，30只兔子，到1926年，100亿只，67年。"
   ]
  },
  {
   "cell_type": "code",
   "execution_count": 1,
   "metadata": {
    "collapsed": true
   },
   "outputs": [],
   "source": [
    "import numpy\n",
    "from matplotlib import pyplot\n",
    "%matplotlib inline"
   ]
  },
  {
   "cell_type": "markdown",
   "metadata": {},
   "source": [
    "第一种情况，草每单位时间固定增长 d，草初始量 c，兔子初始量 n，兔子每单位时间消耗草的量为 h，单位时间的个数 T。\n",
    "如果兔子对草的消耗量小于等于草的总量，也就是说草的数量充足，则兔子数量增加 10%， 否则，如果兔子对草的消耗量大于草的总量（草的数量不足），则兔子数量下降10%"
   ]
  },
  {
   "cell_type": "code",
   "execution_count": 2,
   "metadata": {
    "collapsed": true
   },
   "outputs": [],
   "source": [
    "def model_1(c, d, h, n, T):                #c is the initial amount of grass, d is the constant growth amount of grass  \n",
    "                                           #h is the consumption amount per each rabbit, n is the initial number of rabbit\n",
    "                                           #T is the length of the time\n",
    "    t_n = numpy.linspace(0,T,T+1)\n",
    "    c_n = numpy.zeros_like(t_n)\n",
    "    n_n = numpy.zeros_like(t_n)\n",
    "    #initial condition\n",
    "    c_n[0] = c\n",
    "    n_n[0] = n\n",
    "    \n",
    "    for t in range(len(t_n)-1):\n",
    "        if n_n[t]*h>c_n[t]:\n",
    "            n_n[t+1] = 0.9*n_n[t]\n",
    "        else :\n",
    "            n_n[t+1] = 1.1*n_n[t]\n",
    "        \n",
    "        c_n[t+1] = max(c_n[t] - n_n[t]*h + d, 0)\n",
    "    \n",
    "    return [t_n, n_n, c_n]"
   ]
  },
  {
   "cell_type": "code",
   "execution_count": 3,
   "metadata": {
    "collapsed": true
   },
   "outputs": [],
   "source": [
    "result_1 = model_1(1000, 10, 1., 1.,100)"
   ]
  },
  {
   "cell_type": "code",
   "execution_count": 4,
   "metadata": {
    "collapsed": false
   },
   "outputs": [
    {
     "data": {
      "text/plain": [
       "[<matplotlib.lines.Line2D at 0x7fd13035bc50>]"
      ]
     },
     "execution_count": 4,
     "metadata": {},
     "output_type": "execute_result"
    },
    {
     "data": {
      "image/png": "[encoded data removed]",
      "text/plain": [
       "<matplotlib.figure.Figure at 0x7fd13035bc88>"
      ]
     },
     "metadata": {},
     "output_type": "display_data"
    }
   ],
   "source": [
    "pyplot.plot(result_1[0], result_1[1])\n",
    "pyplot.plot(result_1[0], result_1[2])"
   ]
  },
  {
   "cell_type": "markdown",
   "metadata": {
    "collapsed": true
   },
   "source": [
    "第二种情况是，草的数量按比例增加，不是恒定量，而是恒定比例，比如每单位时间增加5%？"
   ]
  },
  {
   "cell_type": "code",
   "execution_count": 42,
   "metadata": {
    "collapsed": true
   },
   "outputs": [],
   "source": [
    "def model_2(c, d, h, n, T):                #c is the initial amount of grass, d is the constant growth rate of grass  \n",
    "                                           #h is the consumption amount per each rabbit, n is the initial number of rabbit\n",
    "                                           #T is the length of the time\n",
    "    t_n = numpy.linspace(0,T,T+1)\n",
    "    c_n = numpy.zeros_like(t_n)\n",
    "    n_n = numpy.zeros_like(t_n)\n",
    "    #initial condition\n",
    "    c_n[0] = c\n",
    "    n_n[0] = n\n",
    "    \n",
    "    for t in range(len(t_n)-1):\n",
    "        if n_n[t]*h>c_n[t]:\n",
    "            n_n[t+1] = 0.95*n_n[t]\n",
    "        else :\n",
    "            n_n[t+1] = 1.05*n_n[t]\n",
    "        \n",
    "        c_n[t+1] = max((c_n[t]*(1+d) - n_n[t]*h), 0)\n",
    "    \n",
    "    return [t_n, n_n, c_n]"
   ]
  },
  {
   "cell_type": "code",
   "execution_count": 51,
   "metadata": {
    "collapsed": false
   },
   "outputs": [],
   "source": [
    "result_2 = model_2(100, 0.05, 1.,1., 150)"
   ]
  },
  {
   "cell_type": "code",
   "execution_count": 52,
   "metadata": {
    "collapsed": false
   },
   "outputs": [
    {
     "data": {
      "text/plain": [
       "[<matplotlib.lines.Line2D at 0x7fd126e02da0>]"
      ]
     },
     "execution_count": 52,
     "metadata": {},
     "output_type": "execute_result"
    },
    {
     "data": {
      "image/png": "[encoded data removed]",
      "text/plain": [
       "<matplotlib.figure.Figure at 0x7fd126e02d30>"
      ]
     },
     "metadata": {},
     "output_type": "display_data"
    }
   ],
   "source": [
    "pyplot.plot(result_2[0], result_2[1])\n",
    "pyplot.plot(result_2[0], result_2[2])\n"
   ]
  },
  {
   "cell_type": "code",
   "execution_count": 45,
   "metadata": {
    "collapsed": false
   },
   "outputs": [
    {
     "data": {
      "text/plain": [
       "[array([   0.,    1.,    2.,    3.,    4.,    5.,    6.,    7.,    8.,\n",
       "           9.,   10.,   11.,   12.,   13.,   14.,   15.,   16.,   17.,\n",
       "          18.,   19.,   20.,   21.,   22.,   23.,   24.,   25.,   26.,\n",
       "          27.,   28.,   29.,   30.,   31.,   32.,   33.,   34.,   35.,\n",
       "          36.,   37.,   38.,   39.,   40.,   41.,   42.,   43.,   44.,\n",
       "          45.,   46.,   47.,   48.,   49.,   50.,   51.,   52.,   53.,\n",
       "          54.,   55.,   56.,   57.,   58.,   59.,   60.,   61.,   62.,\n",
       "          63.,   64.,   65.,   66.,   67.,   68.,   69.,   70.,   71.,\n",
       "          72.,   73.,   74.,   75.,   76.,   77.,   78.,   79.,   80.,\n",
       "          81.,   82.,   83.,   84.,   85.,   86.,   87.,   88.,   89.,\n",
       "          90.,   91.,   92.,   93.,   94.,   95.,   96.,   97.,   98.,\n",
       "          99.,  100.,  101.,  102.,  103.,  104.,  105.,  106.,  107.,\n",
       "         108.,  109.,  110.,  111.,  112.,  113.,  114.,  115.,  116.,\n",
       "         117.,  118.,  119.,  120.,  121.,  122.,  123.,  124.,  125.,\n",
       "         126.,  127.,  128.,  129.,  130.,  131.,  132.,  133.,  134.,\n",
       "         135.,  136.,  137.,  138.,  139.,  140.,  141.,  142.,  143.,\n",
       "         144.,  145.,  146.,  147.,  148.,  149.,  150.]),\n",
       " array([  1.00000000e+00,   1.05000000e+00,   1.10250000e+00,\n",
       "          1.15762500e+00,   1.21550625e+00,   1.27628156e+00,\n",
       "          1.34009564e+00,   1.40710042e+00,   1.47745544e+00,\n",
       "          1.55132822e+00,   1.62889463e+00,   1.71033936e+00,\n",
       "          1.79585633e+00,   1.88564914e+00,   1.97993160e+00,\n",
       "          2.07892818e+00,   2.18287459e+00,   2.29201832e+00,\n",
       "          2.40661923e+00,   2.52695020e+00,   2.65329771e+00,\n",
       "          2.78596259e+00,   2.92526072e+00,   3.07152376e+00,\n",
       "          3.22509994e+00,   3.38635494e+00,   3.55567269e+00,\n",
       "          3.73345632e+00,   3.92012914e+00,   4.11613560e+00,\n",
       "          4.32194238e+00,   4.53803949e+00,   4.76494147e+00,\n",
       "          5.00318854e+00,   5.25334797e+00,   5.51601537e+00,\n",
       "          5.79181614e+00,   6.08140694e+00,   6.38547729e+00,\n",
       "          6.70475115e+00,   7.03998871e+00,   7.39198815e+00,\n",
       "          7.76158756e+00,   8.14966693e+00,   8.55715028e+00,\n",
       "          8.98500779e+00,   9.43425818e+00,   9.90597109e+00,\n",
       "          1.04012696e+01,   1.09213331e+01,   1.14673998e+01,\n",
       "          1.20407698e+01,   1.26428083e+01,   1.32749487e+01,\n",
       "          1.39386961e+01,   1.46356309e+01,   1.53674125e+01,\n",
       "          1.61357831e+01,   1.69425722e+01,   1.77897009e+01,\n",
       "          1.86791859e+01,   1.96131452e+01,   2.05938024e+01,\n",
       "          2.16234926e+01,   2.27046672e+01,   2.38399006e+01,\n",
       "          2.50318956e+01,   2.62834904e+01,   2.75976649e+01,\n",
       "          2.89775481e+01,   3.04264255e+01,   3.19477468e+01,\n",
       "          3.35451342e+01,   3.52223909e+01,   3.69835104e+01,\n",
       "          3.88326859e+01,   4.07743202e+01,   4.28130362e+01,\n",
       "          4.49536880e+01,   4.72013724e+01,   4.95614411e+01,\n",
       "          5.20395131e+01,   5.46414888e+01,   5.73735632e+01,\n",
       "          6.02422414e+01,   6.32543534e+01,   6.64170711e+01,\n",
       "          6.97379247e+01,   7.32248209e+01,   7.68860620e+01,\n",
       "          8.07303650e+01,   8.47668833e+01,   8.90052275e+01,\n",
       "          9.34554888e+01,   9.81282633e+01,   1.03034676e+02,\n",
       "          1.08186410e+02,   1.13595731e+02,   1.19275517e+02,\n",
       "          1.25239293e+02,   1.31501258e+02,   1.38076321e+02,\n",
       "          1.44980137e+02,   1.52229144e+02,   1.59840601e+02,\n",
       "          1.67832631e+02,   1.76224262e+02,   1.85035475e+02,\n",
       "          1.94287249e+02,   2.04001612e+02,   2.14201692e+02,\n",
       "          2.24911777e+02,   2.36157366e+02,   2.47965234e+02,\n",
       "          2.60363496e+02,   2.73381671e+02,   2.87050754e+02,\n",
       "          3.01403292e+02,   3.16473456e+02,   3.32297129e+02,\n",
       "          3.48911986e+02,   3.66357585e+02,   3.84675464e+02,\n",
       "          4.03909237e+02,   4.24104699e+02,   4.45309934e+02,\n",
       "          4.67575431e+02,   4.90954203e+02,   5.15501913e+02,\n",
       "          5.41277008e+02,   5.68340859e+02,   5.96757902e+02,\n",
       "          6.26595797e+02,   6.57925587e+02,   6.90821866e+02,\n",
       "          7.25362959e+02,   7.61631107e+02,   7.99712662e+02,\n",
       "          8.39698296e+02,   8.81683210e+02,   9.25767371e+02,\n",
       "          9.72055739e+02,   1.02065853e+03,   1.07169145e+03,\n",
       "          1.12527603e+03,   1.18153983e+03,   1.24061682e+03,\n",
       "          1.30264766e+03,   1.36778004e+03,   1.43616904e+03,\n",
       "          1.50797750e+03]),\n",
       " array([  1.00000000e+03,   1.04900000e+03,   1.10040000e+03,\n",
       "          1.15431750e+03,   1.21087575e+03,   1.27020403e+03,\n",
       "          1.33243795e+03,   1.39771975e+03,   1.46619864e+03,\n",
       "          1.53803112e+03,   1.61338134e+03,   1.69242152e+03,\n",
       "          1.77533225e+03,   1.86230301e+03,   1.95353251e+03,\n",
       "          2.04922921e+03,   2.14961174e+03,   2.25490945e+03,\n",
       "          2.36536290e+03,   2.48122443e+03,   2.60275870e+03,\n",
       "          2.73024334e+03,   2.86396954e+03,   3.00424276e+03,\n",
       "          3.15138337e+03,   3.30572744e+03,   3.46762746e+03,\n",
       "          3.63745316e+03,   3.81559236e+03,   4.00245185e+03,\n",
       "          4.19845831e+03,   4.40405928e+03,   4.61972420e+03,\n",
       "          4.84594547e+03,   5.08323956e+03,   5.33214819e+03,\n",
       "          5.59323958e+03,   5.86710975e+03,   6.15438383e+03,\n",
       "          6.45571754e+03,   6.77179867e+03,   7.10334861e+03,\n",
       "          7.45112405e+03,   7.81591867e+03,   8.19856493e+03,\n",
       "          8.59993603e+03,   9.02094782e+03,   9.46256096e+03,\n",
       "          9.92578303e+03,   1.04116709e+04,   1.09213331e+04,\n",
       "          1.14559324e+04,   1.20166882e+04,   1.26048798e+04,\n",
       "          1.32218489e+04,   1.38690026e+04,   1.45478171e+04,\n",
       "          1.52598406e+04,   1.60066968e+04,   1.67900891e+04,\n",
       "          1.76118038e+04,   1.84737148e+04,   1.93777874e+04,\n",
       "          2.03260830e+04,   2.13207637e+04,   2.23640972e+04,\n",
       "          2.34584622e+04,   2.46063534e+04,   2.58103875e+04,\n",
       "          2.70733093e+04,   2.83979972e+04,   2.97874706e+04,\n",
       "          3.12448964e+04,   3.27735961e+04,   3.43770535e+04,\n",
       "          3.60589226e+04,   3.78230361e+04,   3.96734136e+04,\n",
       "          4.16142712e+04,   4.36500311e+04,   4.57853313e+04,\n",
       "          4.80250364e+04,   5.03742487e+04,   5.28383196e+04,\n",
       "          5.54228621e+04,   5.81337629e+04,   6.09771967e+04,\n",
       "          6.39596395e+04,   6.70878835e+04,   7.03690529e+04,\n",
       "          7.38106195e+04,   7.74204201e+04,   8.12066742e+04,\n",
       "          8.51780027e+04,   8.93434473e+04,   9.37124914e+04,\n",
       "          9.82950813e+04,   1.03101649e+05,   1.08143136e+05,\n",
       "          1.13431017e+05,   1.18977329e+05,   1.24794694e+05,\n",
       "          1.30896352e+05,   1.37296190e+05,   1.44008770e+05,\n",
       "          1.51049368e+05,   1.58434004e+05,   1.66179479e+05,\n",
       "          1.74303418e+05,   1.82824302e+05,   1.91761515e+05,\n",
       "          2.01135389e+05,   2.10967247e+05,   2.21279452e+05,\n",
       "          2.32095459e+05,   2.43439869e+05,   2.55338480e+05,\n",
       "          2.67818354e+05,   2.80907868e+05,   2.94636788e+05,\n",
       "          3.09036330e+05,   3.24139235e+05,   3.39979839e+05,\n",
       "          3.56594155e+05,   3.74019954e+05,   3.92296847e+05,\n",
       "          4.11466379e+05,   4.31572123e+05,   4.52659775e+05,\n",
       "          4.74777262e+05,   4.97974848e+05,   5.22305249e+05,\n",
       "          5.47823754e+05,   5.74588346e+05,   6.02659837e+05,\n",
       "          6.32102007e+05,   6.62981745e+05,   6.95369201e+05,\n",
       "          7.29337948e+05,   7.64965147e+05,   8.02331721e+05,\n",
       "          8.41522540e+05,   8.82626611e+05,   9.25737283e+05,\n",
       "          9.70952456e+05,   1.01837480e+06,   1.06811200e+06,\n",
       "          1.12027699e+06,   1.17498819e+06,   1.23236982e+06,\n",
       "          1.29255214e+06])]"
      ]
     },
     "execution_count": 45,
     "metadata": {},
     "output_type": "execute_result"
    }
   ],
   "source": [
    "result_2"
   ]
  },
  {
   "cell_type": "code",
   "execution_count": null,
   "metadata": {
    "collapsed": true
   },
   "outputs": [],
   "source": []
  }
 ],
 "metadata": {
  "anaconda-cloud": {},
  "kernelspec": {
   "display_name": "Python [default]",
   "language": "python",
   "name": "python3"
  },
  "language_info": {
   "codemirror_mode": {
    "name": "ipython",
    "version": 3
   },
   "file_extension": ".py",
   "mimetype": "text/x-python",
   "name": "python",
   "nbconvert_exporter": "python",
   "pygments_lexer": "ipython3",
   "version": "3.5.2"
  }
 },
 "nbformat": 4,
 "nbformat_minor": 1
}
