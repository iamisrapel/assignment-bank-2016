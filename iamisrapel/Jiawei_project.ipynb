{
 "cells": [
  {
   "cell_type": "markdown",
   "metadata": {},
   "source": [
    "my project is about rabbit and grass, we know that rabbit eats grass, if there is a plenty of grass, then the number of rabbits will increase, but the increase of rabbits will reduce the grass, which will make the rabbits reduce, one possibility is that rabbits will eat all the grass, and rabbits will die after the grass is gone, but there might be a balance, hope we have time to find out"
   ]
  },
  {
   "cell_type": "code",
   "execution_count": 2,
   "metadata": {
    "collapsed": true
   },
   "outputs": [],
   "source": [
    "import numpy\n",
    "from matplotlib import pyplot\n",
    "%matplotlib inline"
   ]
  },
  {
   "cell_type": "markdown",
   "metadata": {},
   "source": [
    "第一种情况，草每单位时间固定增长 d，草初始量 c，兔子初始量 n，兔子每单位时间消耗草的量为 h，单位时间的个数 T。\n",
    "如果兔子对草的消耗量小于等于草的总量，也就是说草的数量充足，则兔子数量增加 10%， 否则，如果兔子对草的消耗量大于草的总量（草的数量不足），则兔子数量下降10%"
   ]
  },
  {
   "cell_type": "code",
   "execution_count": 66,
   "metadata": {
    "collapsed": true
   },
   "outputs": [],
   "source": [
    "def model_1(c, d, h, n, T):                #c is the initial amount of grass, d is the constant growth amount of grass  \n",
    "                                           #h is the consumption amount per each rabbit, n is the initial number of rabbit\n",
    "                                           #T is the length of the time\n",
    "    t_n = numpy.linspace(0,T,T+1)\n",
    "    c_n = numpy.zeros_like(t_n)\n",
    "    n_n = numpy.zeros_like(t_n)\n",
    "    #initial condition\n",
    "    c_n[0] = c\n",
    "    n_n[0] = n\n",
    "    \n",
    "    for t in range(len(t_n)-1):\n",
    "        if n_n[t]*h>c_n[t]:\n",
    "            n_n[t+1] = 0.9*n_n[t]\n",
    "        else :\n",
    "            n_n[t+1] = 1.1*n_n[t]\n",
    "        \n",
    "        c_n[t+1] = max(c_n[t] - n_n[t]*h + d, 0)\n",
    "    \n",
    "    return [t_n, n_n, c_n]"
   ]
  },
  {
   "cell_type": "code",
   "execution_count": 67,
   "metadata": {
    "collapsed": true
   },
   "outputs": [],
   "source": [
    "result_1 = model_1(1000, 10, 1., 1.,100)"
   ]
  },
  {
   "cell_type": "code",
   "execution_count": 68,
   "metadata": {
    "collapsed": false
   },
   "outputs": [
    {
     "data": {
      "text/plain": [
       "[<matplotlib.lines.Line2D at 0x7fc03c597588>]"
      ]
     },
     "execution_count": 68,
     "metadata": {},
     "output_type": "execute_result"
    },
    {
     "data": {
      "image/png": "[encoded data removed]",
      "text/plain": [
       "<matplotlib.figure.Figure at 0x7fc03c597128>"
      ]
     },
     "metadata": {},
     "output_type": "display_data"
    }
   ],
   "source": [
    "pyplot.plot(result_1[0], result_1[1])\n",
    "pyplot.plot(result_1[0], result_1[2])"
   ]
  },
  {
   "cell_type": "code",
   "execution_count": null,
   "metadata": {
    "collapsed": true
   },
   "outputs": [],
   "source": []
  }
 ],
 "metadata": {
  "anaconda-cloud": {},
  "kernelspec": {
   "display_name": "Python [default]",
   "language": "python",
   "name": "python3"
  },
  "language_info": {
   "codemirror_mode": {
    "name": "ipython",
    "version": 3
   },
   "file_extension": ".py",
   "mimetype": "text/x-python",
   "name": "python",
   "nbconvert_exporter": "python",
   "pygments_lexer": "ipython3",
   "version": "3.5.2"
  }
 },
 "nbformat": 4,
 "nbformat_minor": 1
}
