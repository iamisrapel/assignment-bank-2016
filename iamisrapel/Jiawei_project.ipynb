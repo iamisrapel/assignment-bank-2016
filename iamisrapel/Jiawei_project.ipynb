{
 "cells": [
  {
   "cell_type": "markdown",
   "metadata": {},
   "source": [
    "my project is about rabbit and grass, we know that rabbit eats grass, if there is a plenty of grass, then the number of rabbits will increase, but the increase of rabbits will reduce the grass, which will make the rabbits reduce, one possibility is that rabbits will eat all the grass, and rabbits will die after the grass is gone, but there might be a balance, hope we have time to find out"
   ]
  },
  {
   "cell_type": "code",
   "execution_count": null,
   "metadata": {
    "collapsed": true
   },
   "outputs": [],
   "source": []
  }
 ],
 "metadata": {
  "kernelspec": {
   "display_name": "Python [default]",
   "language": "python",
   "name": "python3"
  },
  "language_info": {
   "codemirror_mode": {
    "name": "ipython",
    "version": 3
   },
   "file_extension": ".py",
   "mimetype": "text/x-python",
   "name": "python",
   "nbconvert_exporter": "python",
   "pygments_lexer": "ipython3",
   "version": "3.5.2"
  }
 },
 "nbformat": 4,
 "nbformat_minor": 1
}
