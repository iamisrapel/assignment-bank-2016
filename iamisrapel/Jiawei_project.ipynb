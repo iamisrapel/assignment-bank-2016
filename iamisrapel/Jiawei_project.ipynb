{
 "cells": [
  {
   "cell_type": "markdown",
   "metadata": {},
   "source": [
    "my project is about rabbit and grass, we know that rabbit eats grass, if there is a plenty of grass, then the number of rabbits will increase, but the increase of rabbits will reduce the grass, which will make the rabbits reduce, one possibility is that rabbits will eat all the grass, and rabbits will die after the grass is gone, but there might be a balance, hope we have time to find out"
   ]
  },
  {
   "cell_type": "code",
   "execution_count": 2,
   "metadata": {
    "collapsed": true
   },
   "outputs": [],
   "source": [
    "import numpy\n",
    "from matplotlib import pyplot\n",
    "%matplotlib inline"
   ]
  },
  {
   "cell_type": "code",
   "execution_count": 9,
   "metadata": {
    "collapsed": false
   },
   "outputs": [],
   "source": [
    "def model_1(c, n, d, h, T):   #多少草，多少兔子，草的长速， 兔子吃草的速度，时间\n",
    "    t_n = numpy.linspace(0,T)\n",
    "    c_n = numpy.zeros_like(t_n)\n",
    "    n_n = numpy.zeros_like(t_n)\n",
    "    c_n[0] = c\n",
    "    n_n[0] = n\n",
    "    for t in range(T-1):\n",
    "        if n_n[t]*h>c_n[t]:\n",
    "            n_n[t+1] = 0.9*n_n[t]\n",
    "        else :\n",
    "            n_n[t+1] = 1.1*n_n[t]\n",
    "        c_n[t+1] = c_n[t] - n_n[t]*h + d\n",
    "    return [t_n, c_n, n_n]\n",
    "        \n",
    "        "
   ]
  },
  {
   "cell_type": "code",
   "execution_count": 10,
   "metadata": {
    "collapsed": false,
    "scrolled": true
   },
   "outputs": [
    {
     "ename": "IndexError",
     "evalue": "index 50 is out of bounds for axis 0 with size 50",
     "output_type": "error",
     "traceback": [
      "\u001b[0;31m---------------------------------------------------------------------------\u001b[0m",
      "\u001b[0;31mIndexError\u001b[0m                                Traceback (most recent call last)",
      "\u001b[0;32m<ipython-input-10-ec9156dd6df6>\u001b[0m in \u001b[0;36m<module>\u001b[0;34m()\u001b[0m\n\u001b[0;32m----> 1\u001b[0;31m \u001b[0mmodel_1\u001b[0m\u001b[0;34m(\u001b[0m\u001b[0;36m1000\u001b[0m\u001b[0;34m,\u001b[0m \u001b[0;36m1\u001b[0m\u001b[0;34m,\u001b[0m \u001b[0;36m10\u001b[0m\u001b[0;34m,\u001b[0m \u001b[0;36m1\u001b[0m\u001b[0;34m,\u001b[0m \u001b[0;36m500\u001b[0m\u001b[0;34m)\u001b[0m\u001b[0;34m\u001b[0m\u001b[0m\n\u001b[0m",
      "\u001b[0;32m<ipython-input-9-b713e15625ad>\u001b[0m in \u001b[0;36mmodel_1\u001b[0;34m(c, n, d, h, T)\u001b[0m\n\u001b[1;32m      9\u001b[0m             \u001b[0mn_n\u001b[0m\u001b[0;34m[\u001b[0m\u001b[0mt\u001b[0m\u001b[0;34m+\u001b[0m\u001b[0;36m1\u001b[0m\u001b[0;34m]\u001b[0m \u001b[0;34m=\u001b[0m \u001b[0;36m0.9\u001b[0m\u001b[0;34m*\u001b[0m\u001b[0mn_n\u001b[0m\u001b[0;34m[\u001b[0m\u001b[0mt\u001b[0m\u001b[0;34m]\u001b[0m\u001b[0;34m\u001b[0m\u001b[0m\n\u001b[1;32m     10\u001b[0m         \u001b[0;32melse\u001b[0m \u001b[0;34m:\u001b[0m\u001b[0;34m\u001b[0m\u001b[0m\n\u001b[0;32m---> 11\u001b[0;31m             \u001b[0mn_n\u001b[0m\u001b[0;34m[\u001b[0m\u001b[0mt\u001b[0m\u001b[0;34m+\u001b[0m\u001b[0;36m1\u001b[0m\u001b[0;34m]\u001b[0m \u001b[0;34m=\u001b[0m \u001b[0;36m1.1\u001b[0m\u001b[0;34m*\u001b[0m\u001b[0mn_n\u001b[0m\u001b[0;34m[\u001b[0m\u001b[0mt\u001b[0m\u001b[0;34m]\u001b[0m\u001b[0;34m\u001b[0m\u001b[0m\n\u001b[0m\u001b[1;32m     12\u001b[0m         \u001b[0mc_n\u001b[0m\u001b[0;34m[\u001b[0m\u001b[0mt\u001b[0m\u001b[0;34m+\u001b[0m\u001b[0;36m1\u001b[0m\u001b[0;34m]\u001b[0m \u001b[0;34m=\u001b[0m \u001b[0mc_n\u001b[0m\u001b[0;34m[\u001b[0m\u001b[0mt\u001b[0m\u001b[0;34m]\u001b[0m \u001b[0;34m-\u001b[0m \u001b[0mn_n\u001b[0m\u001b[0;34m[\u001b[0m\u001b[0mt\u001b[0m\u001b[0;34m]\u001b[0m\u001b[0;34m*\u001b[0m\u001b[0mh\u001b[0m \u001b[0;34m+\u001b[0m \u001b[0md\u001b[0m\u001b[0;34m\u001b[0m\u001b[0m\n\u001b[1;32m     13\u001b[0m     \u001b[0;32mreturn\u001b[0m \u001b[0;34m[\u001b[0m\u001b[0mt_n\u001b[0m\u001b[0;34m,\u001b[0m \u001b[0mc_n\u001b[0m\u001b[0;34m,\u001b[0m \u001b[0mn_n\u001b[0m\u001b[0;34m]\u001b[0m\u001b[0;34m\u001b[0m\u001b[0m\n",
      "\u001b[0;31mIndexError\u001b[0m: index 50 is out of bounds for axis 0 with size 50"
     ]
    }
   ],
   "source": [
    "model_1(1000, 1, 10, 1, 500)"
   ]
  },
  {
   "cell_type": "code",
   "execution_count": 31,
   "metadata": {
    "collapsed": true
   },
   "outputs": [],
   "source": [
    "c = 1000\n",
    "d = 10\n",
    "h = 2\n",
    "n = 1.\n",
    "T = 100"
   ]
  },
  {
   "cell_type": "code",
   "execution_count": 34,
   "metadata": {
    "collapsed": false
   },
   "outputs": [],
   "source": [
    "t_n = numpy.linspace(0,100,101)\n",
    "c_n = numpy.zeros_like(t_n)\n",
    "n_n = numpy.zeros_like(t_n)\n",
    "c_n[0] = c\n",
    "n_n[0] = n\n"
   ]
  },
  {
   "cell_type": "code",
   "execution_count": 35,
   "metadata": {
    "collapsed": false
   },
   "outputs": [
    {
     "data": {
      "text/plain": [
       "array([   0.,    1.,    2.,    3.,    4.,    5.,    6.,    7.,    8.,\n",
       "          9.,   10.,   11.,   12.,   13.,   14.,   15.,   16.,   17.,\n",
       "         18.,   19.,   20.,   21.,   22.,   23.,   24.,   25.,   26.,\n",
       "         27.,   28.,   29.,   30.,   31.,   32.,   33.,   34.,   35.,\n",
       "         36.,   37.,   38.,   39.,   40.,   41.,   42.,   43.,   44.,\n",
       "         45.,   46.,   47.,   48.,   49.,   50.,   51.,   52.,   53.,\n",
       "         54.,   55.,   56.,   57.,   58.,   59.,   60.,   61.,   62.,\n",
       "         63.,   64.,   65.,   66.,   67.,   68.,   69.,   70.,   71.,\n",
       "         72.,   73.,   74.,   75.,   76.,   77.,   78.,   79.,   80.,\n",
       "         81.,   82.,   83.,   84.,   85.,   86.,   87.,   88.,   89.,\n",
       "         90.,   91.,   92.,   93.,   94.,   95.,   96.,   97.,   98.,\n",
       "         99.,  100.])"
      ]
     },
     "execution_count": 35,
     "metadata": {},
     "output_type": "execute_result"
    }
   ],
   "source": [
    "t_n"
   ]
  },
  {
   "cell_type": "code",
   "execution_count": 36,
   "metadata": {
    "collapsed": false
   },
   "outputs": [
    {
     "data": {
      "text/plain": [
       "array([ 1. ,  0.9,  0. ,  0. ,  0. ,  0. ,  0. ,  0. ,  0. ,  0. ,  0. ,\n",
       "        0. ,  0. ,  0. ,  0. ,  0. ,  0. ,  0. ,  0. ,  0. ,  0. ,  0. ,\n",
       "        0. ,  0. ,  0. ,  0. ,  0. ,  0. ,  0. ,  0. ,  0. ,  0. ,  0. ,\n",
       "        0. ,  0. ,  0. ,  0. ,  0. ,  0. ,  0. ,  0. ,  0. ,  0. ,  0. ,\n",
       "        0. ,  0. ,  0. ,  0. ,  0. ,  0. ,  0. ,  0. ,  0. ,  0. ,  0. ,\n",
       "        0. ,  0. ,  0. ,  0. ,  0. ,  0. ,  0. ,  0. ,  0. ,  0. ,  0. ,\n",
       "        0. ,  0. ,  0. ,  0. ,  0. ,  0. ,  0. ,  0. ,  0. ,  0. ,  0. ,\n",
       "        0. ,  0. ,  0. ,  0. ,  0. ,  0. ,  0. ,  0. ,  0. ,  0. ,  0. ,\n",
       "        0. ,  0. ,  0. ,  0. ,  0. ,  0. ,  0. ,  0. ,  0. ,  0. ,  0. ,\n",
       "        0. ,  0. ])"
      ]
     },
     "execution_count": 36,
     "metadata": {},
     "output_type": "execute_result"
    }
   ],
   "source": [
    "n_n[1] = n_n[0]*0.9\n",
    "n_n"
   ]
  },
  {
   "cell_type": "code",
   "execution_count": 38,
   "metadata": {
    "collapsed": false
   },
   "outputs": [],
   "source": [
    "for t in range(len(t_n)-1):\n",
    "    if n_n[t]*h>c_n[t]:\n",
    "        n_n[t+1] = 0.9*n_n[t]\n",
    "    else :\n",
    "        n_n[t+1] = 1.1*n_n[t]\n",
    "    c_n[t+1] = c_n[t] - n_n[t]*h + d\n"
   ]
  },
  {
   "cell_type": "code",
   "execution_count": 39,
   "metadata": {
    "collapsed": false
   },
   "outputs": [
    {
     "data": {
      "text/plain": [
       "array([ 1000.        ,  1008.        ,  1015.8       ,  1023.38      ,\n",
       "        1030.718     ,  1037.7898    ,  1044.56878   ,  1051.025658  ,\n",
       "        1057.1282238 ,  1062.84104618,  1068.1251508 ,  1072.93766588,\n",
       "        1077.23143247,  1080.95457571,  1084.05003328,  1086.45503661,\n",
       "        1088.10054027,  1088.9105943 ,  1088.80165373,  1087.6818191 ,\n",
       "        1085.45000101,  1081.99500111,  1077.19450123,  1070.91395135,\n",
       "        1063.00534648,  1053.30588113,  1041.63646925,  1027.80011617,\n",
       "        1011.58012779,   992.73814057,   971.01195462,   946.11315008,\n",
       "         917.72446509,   885.4969116 ,   849.04660276,   807.95126304,\n",
       "         761.74638934,   709.92102828,   651.9131311 ,   587.10444421,\n",
       "         514.81488864,   434.2963775 ,   344.72601525,   245.19861678,\n",
       "         134.71847845,    12.1903263 ,  -123.59064107,  -244.79351171,\n",
       "        -352.87609528,  -449.15042049,  -534.79731318,  -610.8795166 ,\n",
       "        -678.35349968,  -738.08008445,  -790.83401075,  -837.31254442,\n",
       "        -878.14322471,  -913.89083698,  -945.06368803,  -972.11925396,\n",
       "        -995.46926331, -1015.48427172, -1032.49777929, -1046.8099361 ,\n",
       "       -1058.69087723, -1068.38372425, -1076.10728656, -1082.05849265,\n",
       "       -1086.41457812, -1089.33505505, -1090.96348429, -1091.4290706 ,\n",
       "       -1090.84809828, -1089.32522319, -1086.95463561, -1083.82110679,\n",
       "       -1080.00093085, -1075.56277251, -1070.56843   , -1065.07352174,\n",
       "       -1059.1281043 , -1052.77722861, -1046.06144049, -1039.01723118,\n",
       "       -1031.67744281, -1024.07163327, -1016.22640468, -1008.16569895,\n",
       "        -999.9110638 ,  -991.48189216,  -982.89563768,  -974.16800865,\n",
       "        -965.31314253,  -956.34376302,  -947.27132146,  -938.10612405,\n",
       "        -928.85744639,  -919.53363649,  -910.14220758,  -900.68992156,\n",
       "        -891.18286415])"
      ]
     },
     "execution_count": 39,
     "metadata": {},
     "output_type": "execute_result"
    }
   ],
   "source": [
    "c_n"
   ]
  },
  {
   "cell_type": "code",
   "execution_count": 40,
   "metadata": {
    "collapsed": false
   },
   "outputs": [
    {
     "data": {
      "text/plain": [
       "[<matplotlib.lines.Line2D at 0x7fc0454d6630>]"
      ]
     },
     "execution_count": 40,
     "metadata": {},
     "output_type": "execute_result"
    },
    {
     "data": {
      "image/png": "[encoded data removed]",
      "text/plain": [
       "<matplotlib.figure.Figure at 0x7fc06001e358>"
      ]
     },
     "metadata": {},
     "output_type": "display_data"
    }
   ],
   "source": [
    "pyplot.plot(t_n, c_n)"
   ]
  },
  {
   "cell_type": "code",
   "execution_count": null,
   "metadata": {
    "collapsed": true
   },
   "outputs": [],
   "source": []
  }
 ],
 "metadata": {
  "anaconda-cloud": {},
  "kernelspec": {
   "display_name": "Python [default]",
   "language": "python",
   "name": "python3"
  },
  "language_info": {
   "codemirror_mode": {
    "name": "ipython",
    "version": 3
   },
   "file_extension": ".py",
   "mimetype": "text/x-python",
   "name": "python",
   "nbconvert_exporter": "python",
   "pygments_lexer": "ipython3",
   "version": "3.5.2"
  }
 },
 "nbformat": 4,
 "nbformat_minor": 1
}
